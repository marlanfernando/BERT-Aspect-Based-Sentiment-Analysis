{
 "cells": [
  {
   "cell_type": "code",
   "execution_count": null,
   "metadata": {},
   "outputs": [],
   "source": [
    "!pip3 install scikit-learn"
   ]
  },
  {
   "cell_type": "code",
   "execution_count": 1,
   "metadata": {},
   "outputs": [],
   "source": [
    "import os, sys\n",
    "sys.path.insert(1, '../dataset')\n",
    "import numpy as np\n",
    "import pandas as pd\n",
    "import warnings\n",
    "import sklearn\n",
    "\n",
    "warnings.filterwarnings(\"ignore\")\n",
    "import matplotlib.pyplot as plt\n",
    "import seaborn as sns\n",
    "\n",
    "from transformers import BertTokenizer\n",
    "import torch\n",
    "from utils import tag_to_word_df"
   ]
  },
  {
   "cell_type": "markdown",
   "metadata": {},
   "source": [
    "test the ATE model with the testing data, this process may require some modifications later, this is to check if the trained model works for our dataset"
   ]
  },
  {
   "cell_type": "code",
   "execution_count": null,
   "metadata": {},
   "outputs": [],
   "source": [
    "import torch\n",
    "\n",
    "print(torch.__version__)\n",
    "print(torch.backends.mps.is_available())"
   ]
  },
  {
   "cell_type": "code",
   "execution_count": 2,
   "metadata": {},
   "outputs": [],
   "source": [
    "from abte import ABTEModel\n",
    "from utils import convert_to_array,replace_SEP,replace_tags,replace_sentiment_tags\n",
    "\n",
    "batch = 8\n",
    "lr = 3*1e-5\n",
    "epochs = 5\n",
    "\n",
    "def run_ABTE_test_train(adapter, lr_schedule):\n",
    "    if adapter:\n",
    "        if lr_schedule: dir_name  = \"model_ABTE_adapter_scheduler\"\n",
    "        else: dir_name = \"model_ABTE_adapter\"\n",
    "    else:\n",
    "        if lr_schedule: dir_name  = \"model_ABTE_scheduler\"\n",
    "        else: dir_name = \"model_ABTE\"\n",
    "\n",
    "    #load\n",
    "    data = pd.read_csv('../dataset/absa_train_df_20240625.csv')\n",
    "    data_test = pd.read_csv('../dataset/absa_test_df_20240625.csv')\n",
    "\n",
    "    data['bio_tags'] = data['bio_tags'].apply(convert_to_array)\n",
    "    data['sentiment_tags'] = data['sentiment_tags'].apply(convert_to_array)\n",
    "    data['tokens'] = data['tokens'].apply(convert_to_array)\n",
    "\n",
    "    data['bio_tags'] = data['bio_tags'].apply(replace_SEP).apply(replace_tags)\n",
    "    data['sentiment_tags'] = data['sentiment_tags'].apply(replace_SEP).apply(replace_sentiment_tags)\n",
    "\n",
    "    data_test['bio_tags'] = data_test['bio_tags'].apply(convert_to_array)\n",
    "    data_test['sentiment_tags'] = data_test['sentiment_tags'].apply(convert_to_array)\n",
    "    data_test['tokens'] = data_test['tokens'].apply(convert_to_array)\n",
    "\n",
    "    data_test['bio_tags'] = data_test['bio_tags'].apply(replace_SEP).apply(replace_tags)\n",
    "    data_test['sentiment_tags'] = data_test['sentiment_tags'].apply(replace_SEP).apply(replace_sentiment_tags)\n",
    "\n",
    "    # define parameters for model\n",
    "    tokenizer = BertTokenizer.from_pretrained(\"bert-base-uncased\")\n",
    "    \n",
    "    DEVICE = torch.device(\"mps\" if torch.backends.mps.is_available() else \"cpu\")\n",
    "\n",
    "    # define model\n",
    "    modelABTE = ABTEModel(tokenizer, adapter=adapter)\n",
    "\n",
    "    # load model and predict\n",
    "    model_path = dir_name+'/model_lr3.0000000000000004e-05_epochs4_batch8.pkl'\n",
    "    test_accuracy, test_report = modelABTE.test(data_test, load_model=model_path, device=DEVICE)\n",
    "    test_pred, test_targets = modelABTE.predict_batch(data_test, load_model=model_path, device=DEVICE)\n",
    "\n",
    "    train_accuracy, train_report = modelABTE.test(data, load_model=model_path, device=DEVICE)\n",
    "    train_pred, train_targets = modelABTE.predict_batch(data, load_model=model_path, device=DEVICE)\n",
    "\n",
    "    #save results\n",
    "    if not os.path.exists('/results'):\n",
    "        os.makedirs(dir_name+'/results')\n",
    "        print('folder not exists, created result folder')\n",
    "\n",
    "    #report\n",
    "    with open(dir_name+'/results/test_report_lr{}_epochs{}_batch{}.csv'.format(lr, epochs, batch), 'w') as f:\n",
    "        for r in test_report.split('\\n'):\n",
    "            f.write(r + '\\n')\n",
    "\n",
    "    with open(dir_name+'/results/train_report_lr{}_epochs{}_batch{}.csv'.format(lr, epochs, batch), 'w') as f:\n",
    "        for r in train_report.split('\\n'):\n",
    "            f.write(r + '\\n')\n",
    "\n",
    "    #predictions\n",
    "    data_test['Predicted'] = test_pred\n",
    "    data_test['Actual'] = test_targets\n",
    "    data_test.to_csv(dir_name+'/results/test_pred_lr{}_epochs{}_batch{}.csv'.format(lr, epochs, batch), index=False)\n",
    "\n",
    "    data['Predicted'] = train_pred\n",
    "    data['Actual'] = train_targets\n",
    "    data.to_csv(dir_name+'/results/train_pred_lr{}_epochs{}_batch{}.csv'.format(lr, epochs, batch), index=False)\n",
    "\n",
    "    #accuracy\n",
    "    test_accuracy = np.array(test_accuracy)\n",
    "    train_accuracy = np.array(train_accuracy)\n",
    "\n",
    "    with open(dir_name+'/results/test_accuracy_lr{}_epochs{}_batch{}.csv'.format(lr, epochs, batch), 'w') as f:\n",
    "        f.write(str(test_accuracy))\n",
    "    with open(dir_name+'/results/train_accuracy_lr{}_epochs{}_batch{}.csv'.format(lr, epochs, batch), 'w') as f:\n",
    "        f.write(str(train_accuracy))\n",
    "    \n",
    "    print('completed!!!!! huurayyyyyy!!!!')"
   ]
  },
  {
   "cell_type": "code",
   "execution_count": 3,
   "metadata": {},
   "outputs": [
    {
     "name": "stderr",
     "output_type": "stream",
     "text": [
      "Some weights of the model checkpoint at bert-base-uncased were not used when initializing BertModel: ['cls.predictions.transform.LayerNorm.weight', 'cls.predictions.decoder.weight', 'cls.predictions.transform.dense.weight', 'cls.predictions.transform.LayerNorm.bias', 'cls.seq_relationship.bias', 'cls.predictions.transform.dense.bias', 'cls.seq_relationship.weight', 'cls.predictions.bias']\n",
      "- This IS expected if you are initializing BertModel from the checkpoint of a model trained on another task or with another architecture (e.g. initializing a BertForSequenceClassification model from a BertForPreTraining model).\n",
      "- This IS NOT expected if you are initializing BertModel from the checkpoint of a model that you expect to be exactly identical (initializing a BertForSequenceClassification model from a BertForSequenceClassification model).\n",
      "\r  0%|          | 0/2 [00:00<?, ?it/s]\r 50%|█████     | 1/2 [00:02<00:02,  2.03s/it]\r100%|██████████| 2/2 [00:02<00:00,  1.14s/it]\r100%|██████████| 2/2 [00:02<00:00,  1.28s/it]\n",
      "\r  0%|          | 0/62 [00:00<?, ?it/s]\r  2%|▏         | 1/62 [00:00<00:10,  5.67it/s]\r  3%|▎         | 2/62 [00:00<00:09,  6.04it/s]\r  5%|▍         | 3/62 [00:00<00:09,  6.33it/s]\r  6%|▋         | 4/62 [00:00<00:09,  6.28it/s]\r  8%|▊         | 5/62 [00:00<00:08,  6.35it/s]\r 10%|▉         | 6/62 [00:00<00:08,  6.23it/s]\r 11%|█▏        | 7/62 [00:01<00:09,  5.97it/s]\r 13%|█▎        | 8/62 [00:01<00:08,  6.10it/s]\r 15%|█▍        | 9/62 [00:01<00:09,  5.88it/s]\r 16%|█▌        | 10/62 [00:01<00:08,  6.05it/s]\r 18%|█▊        | 11/62 [00:01<00:08,  6.22it/s]\r 19%|█▉        | 12/62 [00:01<00:08,  6.20it/s]\r 21%|██        | 13/62 [00:02<00:07,  6.15it/s]\r 23%|██▎       | 14/62 [00:02<00:07,  6.15it/s]\r 24%|██▍       | 15/62 [00:02<00:07,  6.22it/s]\r 26%|██▌       | 16/62 [00:02<00:07,  6.19it/s]\r 27%|██▋       | 17/62 [00:02<00:07,  6.10it/s]\r 29%|██▉       | 18/62 [00:02<00:07,  6.04it/s]\r 31%|███       | 19/62 [00:03<00:07,  6.07it/s]\r 32%|███▏      | 20/62 [00:03<00:06,  6.50it/s]\r 34%|███▍      | 21/62 [00:03<00:06,  6.42it/s]\r 35%|███▌      | 22/62 [00:03<00:06,  6.37it/s]\r 37%|███▋      | 23/62 [00:03<00:06,  6.36it/s]\r 39%|███▊      | 24/62 [00:03<00:05,  6.34it/s]\r 40%|████      | 25/62 [00:04<00:05,  6.22it/s]\r 42%|████▏     | 26/62 [00:04<00:05,  6.90it/s]\r 44%|████▎     | 27/62 [00:04<00:05,  6.71it/s]\r 45%|████▌     | 28/62 [00:04<00:04,  7.28it/s]\r 47%|████▋     | 29/62 [00:04<00:04,  6.86it/s]\r 48%|████▊     | 30/62 [00:04<00:04,  7.35it/s]\r 50%|█████     | 31/62 [00:04<00:04,  6.90it/s]\r 52%|█████▏    | 32/62 [00:05<00:04,  6.46it/s]\r 53%|█████▎    | 33/62 [00:05<00:04,  6.33it/s]\r 55%|█████▍    | 34/62 [00:05<00:04,  6.08it/s]\r 56%|█████▋    | 35/62 [00:05<00:04,  6.67it/s]\r 58%|█████▊    | 36/62 [00:05<00:04,  6.38it/s]\r 60%|█████▉    | 37/62 [00:05<00:04,  6.23it/s]\r 61%|██████▏   | 38/62 [00:06<00:03,  6.14it/s]\r 63%|██████▎   | 39/62 [00:06<00:03,  6.55it/s]\r 65%|██████▍   | 40/62 [00:06<00:03,  7.13it/s]\r 66%|██████▌   | 41/62 [00:06<00:02,  7.58it/s]\r 68%|██████▊   | 42/62 [00:06<00:02,  6.93it/s]\r 69%|██████▉   | 43/62 [00:06<00:02,  7.40it/s]\r 71%|███████   | 44/62 [00:06<00:02,  6.93it/s]\r 73%|███████▎  | 45/62 [00:06<00:02,  6.54it/s]\r 74%|███████▍  | 46/62 [00:07<00:02,  6.83it/s]\r 76%|███████▌  | 47/62 [00:07<00:02,  7.31it/s]\r 77%|███████▋  | 48/62 [00:07<00:02,  6.83it/s]\r 79%|███████▉  | 49/62 [00:07<00:02,  6.39it/s]\r 81%|████████  | 50/62 [00:07<00:01,  6.16it/s]\r 82%|████████▏ | 51/62 [00:07<00:01,  6.11it/s]\r 84%|████████▍ | 52/62 [00:08<00:01,  6.68it/s]\r 85%|████████▌ | 53/62 [00:08<00:01,  6.36it/s]\r 87%|████████▋ | 54/62 [00:08<00:01,  6.18it/s]\r 89%|████████▊ | 55/62 [00:08<00:01,  6.13it/s]\r 90%|█████████ | 56/62 [00:08<00:00,  6.75it/s]\r 92%|█████████▏| 57/62 [00:08<00:00,  6.45it/s]\r 94%|█████████▎| 58/62 [00:09<00:00,  6.22it/s]\r 95%|█████████▌| 59/62 [00:09<00:00,  6.01it/s]\r 97%|█████████▋| 60/62 [00:09<00:00,  6.06it/s]\r 98%|█████████▊| 61/62 [00:09<00:00,  5.97it/s]\r100%|██████████| 62/62 [00:09<00:00,  5.96it/s]\r100%|██████████| 62/62 [00:09<00:00,  6.39it/s]\n",
      "\r  0%|          | 0/5 [00:00<?, ?it/s]\r 20%|██        | 1/5 [00:01<00:07,  1.90s/it]\r 40%|████      | 2/5 [00:03<00:05,  1.98s/it]\r 60%|██████    | 3/5 [00:05<00:03,  1.89s/it]\r 80%|████████  | 4/5 [00:10<00:02,  2.89s/it]\r100%|██████████| 5/5 [00:12<00:00,  2.76s/it]\r100%|██████████| 5/5 [00:12<00:00,  2.53s/it]\n",
      "\r  0%|          | 0/246 [00:00<?, ?it/s]\r  0%|          | 1/246 [00:00<00:47,  5.19it/s]\r  1%|          | 2/246 [00:00<00:47,  5.10it/s]\r  1%|          | 3/246 [00:00<00:38,  6.31it/s]\r  2%|▏         | 4/246 [00:00<00:42,  5.70it/s]\r  2%|▏         | 5/246 [00:00<00:44,  5.40it/s]\r  2%|▏         | 6/246 [00:01<00:38,  6.27it/s]\r  3%|▎         | 7/246 [00:01<00:34,  6.96it/s]\r  3%|▎         | 8/246 [00:01<00:33,  7.19it/s]\r  4%|▎         | 9/246 [00:01<00:37,  6.35it/s]\r  4%|▍         | 10/246 [00:01<00:41,  5.68it/s]\r  4%|▍         | 11/246 [00:01<00:37,  6.35it/s]\r  5%|▍         | 12/246 [00:01<00:40,  5.82it/s]\r  5%|▌         | 13/246 [00:02<00:41,  5.56it/s]\r  6%|▌         | 14/246 [00:02<00:37,  6.18it/s]\r  6%|▌         | 15/246 [00:02<00:34,  6.76it/s]\r  7%|▋         | 16/246 [00:02<00:37,  6.13it/s]\r  7%|▋         | 17/246 [00:02<00:40,  5.60it/s]\r  7%|▋         | 18/246 [00:03<00:45,  5.05it/s]\r  8%|▊         | 19/246 [00:03<00:40,  5.60it/s]\r  8%|▊         | 20/246 [00:03<00:44,  5.08it/s]\r  9%|▊         | 21/246 [00:03<00:44,  5.01it/s]\r  9%|▉         | 22/246 [00:03<00:40,  5.59it/s]\r  9%|▉         | 23/246 [00:03<00:36,  6.19it/s]\r 10%|▉         | 24/246 [00:04<00:39,  5.66it/s]\r 10%|█         | 25/246 [00:04<00:35,  6.26it/s]\r 11%|█         | 26/246 [00:04<00:32,  6.83it/s]\r 11%|█         | 27/246 [00:04<00:30,  7.13it/s]\r 11%|█▏        | 28/246 [00:04<00:28,  7.52it/s]\r 12%|█▏        | 29/246 [00:04<00:33,  6.42it/s]\r 12%|█▏        | 30/246 [00:05<00:37,  5.76it/s]\r 13%|█▎        | 31/246 [00:05<00:39,  5.43it/s]\r 13%|█▎        | 32/246 [00:05<00:40,  5.23it/s]\r 13%|█▎        | 33/246 [00:05<00:36,  5.80it/s]\r 14%|█▍        | 34/246 [00:05<00:32,  6.43it/s]\r 14%|█▍        | 35/246 [00:05<00:36,  5.82it/s]\r 15%|█▍        | 36/246 [00:06<00:38,  5.49it/s]\r 15%|█▌        | 37/246 [00:06<00:34,  6.07it/s]\r 15%|█▌        | 38/246 [00:06<00:37,  5.60it/s]\r 16%|█▌        | 39/246 [00:06<00:33,  6.14it/s]\r 16%|█▋        | 40/246 [00:06<00:30,  6.73it/s]\r 17%|█▋        | 41/246 [00:06<00:34,  5.90it/s]\r 17%|█▋        | 42/246 [00:07<00:31,  6.38it/s]\r 17%|█▋        | 43/246 [00:07<00:29,  6.87it/s]\r 18%|█▊        | 44/246 [00:07<00:28,  7.01it/s]\r 18%|█▊        | 45/246 [00:07<00:27,  7.40it/s]\r 19%|█▊        | 46/246 [00:07<00:31,  6.42it/s]\r 19%|█▉        | 47/246 [00:07<00:28,  6.91it/s]\r 20%|█▉        | 48/246 [00:07<00:27,  7.30it/s]\r 20%|█▉        | 49/246 [00:07<00:26,  7.57it/s]\r 20%|██        | 50/246 [00:08<00:25,  7.77it/s]\r 21%|██        | 51/246 [00:08<00:24,  8.00it/s]\r 21%|██        | 52/246 [00:08<00:24,  8.01it/s]\r 22%|██▏       | 53/246 [00:08<00:29,  6.65it/s]\r 22%|██▏       | 54/246 [00:08<00:26,  7.12it/s]\r 22%|██▏       | 55/246 [00:08<00:25,  7.52it/s]\r 23%|██▎       | 56/246 [00:08<00:29,  6.41it/s]\r 23%|██▎       | 57/246 [00:09<00:27,  6.83it/s]\r 24%|██▎       | 58/246 [00:09<00:31,  6.05it/s]\r 24%|██▍       | 59/246 [00:09<00:28,  6.65it/s]\r 24%|██▍       | 60/246 [00:09<00:31,  5.83it/s]\r 25%|██▍       | 61/246 [00:09<00:28,  6.46it/s]\r 25%|██▌       | 62/246 [00:09<00:26,  7.01it/s]\r 26%|██▌       | 63/246 [00:10<00:29,  6.12it/s]\r 26%|██▌       | 64/246 [00:10<00:32,  5.68it/s]\r 26%|██▋       | 65/246 [00:10<00:29,  6.11it/s]\r 27%|██▋       | 66/246 [00:10<00:27,  6.58it/s]\r 27%|██▋       | 67/246 [00:10<00:25,  7.01it/s]\r 28%|██▊       | 68/246 [00:10<00:28,  6.19it/s]\r 28%|██▊       | 69/246 [00:11<00:26,  6.69it/s]\r 28%|██▊       | 70/246 [00:11<00:29,  5.96it/s]\r 29%|██▉       | 71/246 [00:11<00:31,  5.60it/s]\r 29%|██▉       | 72/246 [00:11<00:28,  6.13it/s]\r 30%|██▉       | 73/246 [00:11<00:25,  6.66it/s]\r 30%|███       | 74/246 [00:11<00:24,  7.03it/s]\r 30%|███       | 75/246 [00:11<00:22,  7.46it/s]\r 31%|███       | 76/246 [00:12<00:26,  6.47it/s]\r 31%|███▏      | 77/246 [00:12<00:24,  6.95it/s]\r 32%|███▏      | 78/246 [00:12<00:22,  7.32it/s]\r 32%|███▏      | 79/246 [00:12<00:26,  6.33it/s]\r 33%|███▎      | 80/246 [00:12<00:24,  6.74it/s]\r 33%|███▎      | 81/246 [00:12<00:23,  7.16it/s]\r 33%|███▎      | 82/246 [00:12<00:21,  7.46it/s]\r 34%|███▎      | 83/246 [00:13<00:21,  7.59it/s]\r 34%|███▍      | 84/246 [00:13<00:21,  7.66it/s]\r 35%|███▍      | 85/246 [00:13<00:20,  7.89it/s]\r 35%|███▍      | 86/246 [00:13<00:23,  6.69it/s]\r 35%|███▌      | 87/246 [00:13<00:22,  6.94it/s]\r 36%|███▌      | 88/246 [00:13<00:25,  6.13it/s]\r 36%|███▌      | 89/246 [00:13<00:23,  6.64it/s]\r 37%|███▋      | 90/246 [00:14<00:22,  7.05it/s]\r 37%|███▋      | 91/246 [00:14<00:24,  6.21it/s]\r 37%|███▋      | 92/246 [00:14<00:22,  6.75it/s]\r 38%|███▊      | 93/246 [00:14<00:24,  6.17it/s]\r 38%|███▊      | 94/246 [00:14<00:23,  6.59it/s]\r 39%|███▊      | 95/246 [00:14<00:26,  5.70it/s]\r 39%|███▉      | 96/246 [00:15<00:27,  5.48it/s]\r 39%|███▉      | 97/246 [00:15<00:24,  6.01it/s]\r 40%|███▉      | 98/246 [00:15<00:25,  5.70it/s]\r 40%|████      | 99/246 [00:15<00:26,  5.50it/s]\r 41%|████      | 100/246 [00:15<00:24,  5.85it/s]\r 41%|████      | 101/246 [00:16<00:25,  5.61it/s]\r 41%|████▏     | 102/246 [00:16<00:27,  5.31it/s]\r 42%|████▏     | 103/246 [00:16<00:23,  6.00it/s]\r 42%|████▏     | 104/246 [00:16<00:21,  6.57it/s]\r 43%|████▎     | 105/246 [00:16<00:23,  6.06it/s]\r 43%|████▎     | 106/246 [00:16<00:21,  6.60it/s]\r 43%|████▎     | 107/246 [00:16<00:19,  7.12it/s]\r 44%|████▍     | 108/246 [00:17<00:18,  7.53it/s]\r 44%|████▍     | 109/246 [00:17<00:17,  7.74it/s]\r 45%|████▍     | 110/246 [00:17<00:20,  6.58it/s]\r 45%|████▌     | 111/246 [00:17<00:18,  7.15it/s]\r 46%|████▌     | 112/246 [00:17<00:21,  6.35it/s]\r 46%|████▌     | 113/246 [00:17<00:19,  6.90it/s]\r 46%|████▋     | 114/246 [00:17<00:21,  6.23it/s]\r 47%|████▋     | 115/246 [00:18<00:19,  6.72it/s]\r 47%|████▋     | 116/246 [00:18<00:18,  7.00it/s]\r 48%|████▊     | 117/246 [00:18<00:18,  7.15it/s]\r 48%|████▊     | 118/246 [00:18<00:17,  7.28it/s]\r 48%|████▊     | 119/246 [00:18<00:17,  7.42it/s]\r 49%|████▉     | 120/246 [00:18<00:16,  7.80it/s]\r 49%|████▉     | 121/246 [00:18<00:15,  8.04it/s]\r 50%|████▉     | 122/246 [00:18<00:15,  8.18it/s]\r 50%|█████     | 123/246 [00:19<00:15,  7.94it/s]\r 50%|█████     | 124/246 [00:19<00:14,  8.14it/s]\r 51%|█████     | 125/246 [00:19<00:14,  8.27it/s]\r 51%|█████     | 126/246 [00:19<00:14,  8.29it/s]\r 52%|█████▏    | 127/246 [00:19<00:17,  6.87it/s]\r 52%|█████▏    | 128/246 [00:19<00:19,  6.10it/s]\r 52%|█████▏    | 129/246 [00:19<00:17,  6.68it/s]\r 53%|█████▎    | 130/246 [00:20<00:16,  7.13it/s]\r 53%|█████▎    | 131/246 [00:20<00:19,  5.98it/s]\r 54%|█████▎    | 132/246 [00:20<00:17,  6.49it/s]\r 54%|█████▍    | 133/246 [00:20<00:16,  6.94it/s]\r 54%|█████▍    | 134/246 [00:20<00:15,  7.04it/s]\r 55%|█████▍    | 135/246 [00:20<00:15,  7.37it/s]\r 55%|█████▌    | 136/246 [00:20<00:14,  7.62it/s]\r 56%|█████▌    | 137/246 [00:21<00:14,  7.71it/s]\r 56%|█████▌    | 138/246 [00:21<00:19,  5.67it/s]\r 57%|█████▋    | 139/246 [00:21<00:17,  6.09it/s]\r 57%|█████▋    | 140/246 [00:21<00:15,  6.69it/s]\r 57%|█████▋    | 141/246 [00:21<00:19,  5.29it/s]\r 58%|█████▊    | 142/246 [00:22<00:22,  4.61it/s]\r 58%|█████▊    | 143/246 [00:22<00:19,  5.26it/s]\r 59%|█████▊    | 144/246 [00:22<00:17,  5.89it/s]\r 59%|█████▉    | 145/246 [00:22<00:15,  6.45it/s]\r 59%|█████▉    | 146/246 [00:22<00:19,  5.16it/s]\r 60%|█████▉    | 147/246 [00:22<00:17,  5.80it/s]\r 60%|██████    | 148/246 [00:23<00:15,  6.40it/s]\r 61%|██████    | 149/246 [00:23<00:14,  6.88it/s]\r 61%|██████    | 150/246 [00:23<00:13,  7.27it/s]\r 61%|██████▏   | 151/246 [00:23<00:17,  5.50it/s]\r 62%|██████▏   | 152/246 [00:23<00:15,  6.16it/s]\r 62%|██████▏   | 153/246 [00:23<00:13,  6.74it/s]\r 63%|██████▎   | 154/246 [00:23<00:12,  7.18it/s]\r 63%|██████▎   | 155/246 [00:24<00:11,  7.60it/s]\r 63%|██████▎   | 156/246 [00:24<00:11,  7.84it/s]\r 64%|██████▍   | 157/246 [00:24<00:11,  8.05it/s]\r 64%|██████▍   | 158/246 [00:24<00:11,  7.96it/s]\r 65%|██████▍   | 159/246 [00:24<00:10,  8.03it/s]\r 65%|██████▌   | 160/246 [00:24<00:10,  8.24it/s]\r 65%|██████▌   | 161/246 [00:24<00:10,  8.40it/s]\r 66%|██████▌   | 162/246 [00:24<00:10,  8.23it/s]\r 66%|██████▋   | 163/246 [00:24<00:09,  8.35it/s]\r 67%|██████▋   | 164/246 [00:25<00:09,  8.45it/s]\r 67%|██████▋   | 165/246 [00:25<00:13,  5.93it/s]\r 67%|██████▋   | 166/246 [00:25<00:16,  4.88it/s]\r 68%|██████▊   | 167/246 [00:25<00:18,  4.34it/s]\r 68%|██████▊   | 168/246 [00:26<00:15,  5.03it/s]\r 69%|██████▊   | 169/246 [00:26<00:13,  5.55it/s]\r 69%|██████▉   | 170/246 [00:26<00:16,  4.69it/s]\r 70%|██████▉   | 171/246 [00:26<00:13,  5.37it/s]\r 70%|██████▉   | 172/246 [00:26<00:16,  4.61it/s]\r 70%|███████   | 173/246 [00:27<00:13,  5.34it/s]\r 71%|███████   | 174/246 [00:27<00:12,  5.90it/s]\r 71%|███████   | 175/246 [00:27<00:10,  6.49it/s]\r 72%|███████▏  | 176/246 [00:27<00:10,  6.81it/s]\r 72%|███████▏  | 177/246 [00:27<00:09,  7.26it/s]\r 72%|███████▏  | 178/246 [00:27<00:09,  7.45it/s]\r 73%|███████▎  | 179/246 [00:27<00:08,  7.78it/s]\r 73%|███████▎  | 180/246 [00:27<00:08,  8.02it/s]\r 74%|███████▎  | 181/246 [00:28<00:08,  8.09it/s]\r 74%|███████▍  | 182/246 [00:28<00:07,  8.26it/s]\r 74%|███████▍  | 183/246 [00:28<00:07,  8.14it/s]\r 75%|███████▍  | 184/246 [00:28<00:07,  8.32it/s]\r 75%|███████▌  | 185/246 [00:28<00:07,  8.19it/s]\r 76%|███████▌  | 186/246 [00:28<00:07,  8.30it/s]\r 76%|███████▌  | 187/246 [00:28<00:10,  5.80it/s]\r 76%|███████▋  | 188/246 [00:29<00:09,  6.33it/s]\r 77%|███████▋  | 189/246 [00:29<00:11,  5.05it/s]\r 77%|███████▋  | 190/246 [00:29<00:12,  4.38it/s]\r 78%|███████▊  | 191/246 [00:29<00:10,  5.13it/s]\r 78%|███████▊  | 192/246 [00:29<00:09,  5.75it/s]\r 78%|███████▊  | 193/246 [00:29<00:08,  6.39it/s]\r 79%|███████▉  | 194/246 [00:30<00:07,  6.94it/s]\r 79%|███████▉  | 195/246 [00:30<00:07,  7.26it/s]\r 80%|███████▉  | 196/246 [00:30<00:06,  7.64it/s]\r 80%|████████  | 197/246 [00:30<00:08,  5.62it/s]\r 80%|████████  | 198/246 [00:30<00:07,  6.27it/s]\r 81%|████████  | 199/246 [00:30<00:06,  6.81it/s]\r 81%|████████▏ | 200/246 [00:30<00:06,  7.25it/s]\r 82%|████████▏ | 201/246 [00:31<00:06,  7.49it/s]\r 82%|████████▏ | 202/246 [00:31<00:05,  7.70it/s]\r 83%|████████▎ | 203/246 [00:31<00:05,  7.95it/s]\r 83%|████████▎ | 204/246 [00:31<00:05,  7.99it/s]\r 83%|████████▎ | 205/246 [00:31<00:05,  8.18it/s]\r 84%|████████▎ | 206/246 [00:31<00:04,  8.18it/s]\r 84%|████████▍ | 207/246 [00:31<00:04,  8.29it/s]\r 85%|████████▍ | 208/246 [00:31<00:04,  8.32it/s]\r 85%|████████▍ | 209/246 [00:32<00:04,  7.75it/s]\r 85%|████████▌ | 210/246 [00:32<00:04,  7.57it/s]\r 86%|████████▌ | 211/246 [00:32<00:04,  7.79it/s]\r 86%|████████▌ | 212/246 [00:32<00:04,  7.96it/s]\r 87%|████████▋ | 213/246 [00:32<00:04,  7.95it/s]\r 87%|████████▋ | 214/246 [00:32<00:03,  8.08it/s]\r 87%|████████▋ | 215/246 [00:32<00:03,  8.09it/s]\r 88%|████████▊ | 216/246 [00:32<00:03,  8.03it/s]\r 88%|████████▊ | 217/246 [00:33<00:03,  8.12it/s]\r 89%|████████▊ | 218/246 [00:33<00:03,  7.91it/s]\r 89%|████████▉ | 219/246 [00:33<00:04,  5.69it/s]\r 89%|████████▉ | 220/246 [00:33<00:04,  6.25it/s]\r 90%|████████▉ | 221/246 [00:33<00:03,  6.79it/s]\r 90%|█████████ | 222/246 [00:33<00:03,  7.00it/s]\r 91%|█████████ | 223/246 [00:33<00:03,  7.45it/s]\r 91%|█████████ | 224/246 [00:34<00:02,  7.82it/s]\r 91%|█████████▏| 225/246 [00:34<00:02,  8.06it/s]\r 92%|█████████▏| 226/246 [00:34<00:03,  5.72it/s]\r 92%|█████████▏| 227/246 [00:34<00:02,  6.37it/s]\r 93%|█████████▎| 228/246 [00:34<00:02,  6.90it/s]\r 93%|█████████▎| 229/246 [00:34<00:02,  7.25it/s]\r 93%|█████████▎| 230/246 [00:34<00:02,  7.45it/s]\r 94%|█████████▍| 231/246 [00:35<00:01,  7.76it/s]\r 94%|█████████▍| 232/246 [00:35<00:02,  5.51it/s]\r 95%|█████████▍| 233/246 [00:35<00:02,  4.63it/s]\r 95%|█████████▌| 234/246 [00:36<00:03,  3.79it/s]\r 96%|█████████▌| 235/246 [00:36<00:02,  4.49it/s]\r 96%|█████████▌| 236/246 [00:36<00:01,  5.22it/s]\r 96%|█████████▋| 237/246 [00:36<00:01,  5.98it/s]\r 97%|█████████▋| 238/246 [00:36<00:01,  4.90it/s]\r 97%|█████████▋| 239/246 [00:36<00:01,  5.61it/s]\r 98%|█████████▊| 240/246 [00:36<00:00,  6.29it/s]\r 98%|█████████▊| 241/246 [00:37<00:00,  6.87it/s]\r 98%|█████████▊| 242/246 [00:37<00:00,  7.40it/s]\r 99%|█████████▉| 243/246 [00:37<00:00,  7.62it/s]\r 99%|█████████▉| 244/246 [00:37<00:00,  7.87it/s]\r100%|█████████▉| 245/246 [00:37<00:00,  8.07it/s]\r100%|██████████| 246/246 [00:37<00:00,  8.24it/s]\r100%|██████████| 246/246 [00:37<00:00,  6.53it/s]"
     ]
    },
    {
     "name": "stdout",
     "output_type": "stream",
     "text": [
      "folder not exists, created result folder\n",
      "completed!!!!! huurayyyyyy!!!!\n"
     ]
    },
    {
     "name": "stderr",
     "output_type": "stream",
     "text": [
      "\n"
     ]
    }
   ],
   "source": [
    "run_ABTE_test_train(False, True)"
   ]
  },
  {
   "cell_type": "code",
   "execution_count": 5,
   "metadata": {},
   "outputs": [
    {
     "name": "stderr",
     "output_type": "stream",
     "text": [
      "Some weights of the model checkpoint at bert-base-uncased were not used when initializing BertModel: ['cls.predictions.transform.LayerNorm.weight', 'cls.predictions.decoder.weight', 'cls.predictions.transform.dense.weight', 'cls.predictions.transform.LayerNorm.bias', 'cls.seq_relationship.bias', 'cls.predictions.transform.dense.bias', 'cls.seq_relationship.weight', 'cls.predictions.bias']\n",
      "- This IS expected if you are initializing BertModel from the checkpoint of a model trained on another task or with another architecture (e.g. initializing a BertForSequenceClassification model from a BertForPreTraining model).\n",
      "- This IS NOT expected if you are initializing BertModel from the checkpoint of a model that you expect to be exactly identical (initializing a BertForSequenceClassification model from a BertForSequenceClassification model).\n"
     ]
    },
    {
     "name": "stdout",
     "output_type": "stream",
     "text": [
      "['good', 'fit', 'and', 'length']\n",
      "[0, 0, 0, 0]\n"
     ]
    }
   ],
   "source": [
    "tokenizer = BertTokenizer.from_pretrained(\"bert-base-uncased\")\n",
    "    \n",
    "DEVICE = torch.device(\"mps\" if torch.backends.mps.is_available() else \"cpu\")\n",
    "model_path = 'model_ABTE_scheduler/model_lr3.0000000000000004e-05_epochs4_batch8.pkl'\n",
    "\n",
    "# define model\n",
    "modelABTE = ABTEModel(tokenizer, False)\n",
    "word_pieces, predictions, outputs = modelABTE.predict('It was a little tighter in the chest area than i thought it would be, but i still like it very much!', load_model=model_path, device=DEVICE)\n",
    "\n",
    "print(word_pieces)\n",
    "print(predictions)"
   ]
  }
 ],
 "metadata": {
  "kernelspec": {
   "display_name": "venv",
   "language": "python",
   "name": "python3"
  },
  "language_info": {
   "codemirror_mode": {
    "name": "ipython",
    "version": 3
   },
   "file_extension": ".py",
   "mimetype": "text/x-python",
   "name": "python",
   "nbconvert_exporter": "python",
   "pygments_lexer": "ipython3",
   "version": "3.12.2"
  },
  "orig_nbformat": 4,
  "vscode": {
   "interpreter": {
    "hash": "eff73bd6cd3d0fe52265b8b7ef995f74a43a48c078b1368b9c809f395965f11b"
   }
  }
 },
 "nbformat": 4,
 "nbformat_minor": 2
}
